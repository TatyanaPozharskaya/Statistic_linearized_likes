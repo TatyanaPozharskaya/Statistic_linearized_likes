{
 "cells": [
  {
   "cell_type": "markdown",
   "id": "152cc501-7cca-4de1-a83b-006cd98b48fa",
   "metadata": {},
   "source": [
    "Задача\n",
    "\n",
    "Проанализируйте тест между группами 0 и 3 по метрике линеаризованных лайков. Видно ли отличие? Стало ли 𝑝−𝑣𝑎𝑙𝑢𝑒 меньше?\n",
    "Проанализируйте тест между группами 1 и 2 по метрике линеаризованных лайков. Видно ли отличие? Стало ли 𝑝−𝑣𝑎𝑙𝑢𝑒 меньше?"
   ]
  },
  {
   "cell_type": "markdown",
   "id": "e0986c72-9c0b-47d3-8955-94ce68ab1a00",
   "metadata": {},
   "source": [
    "Идея метода заключается в следующем:\n",
    "\n",
    "Вместо того, чтобы заталкивать в тест «поюзерные» CTR, можно сконструировать другую метрику и анализировать ее, но при этом гарантируется (в отличие от сглаженного CTR), что если тест на этой другой метрике «прокрасится» и увидит изменения, значит изменения есть и в метрике исходной (то есть в лайках на пользователя и в пользовательских CTR\n",
    "\n",
    "При этом метод сам по себе очень прост. Что это за метрика такая?\n",
    "\n",
    "Считаем общий CTR в контрольной группе  𝐶𝑇𝑅𝑐𝑜𝑛𝑡𝑟𝑜𝑙=𝑠𝑢𝑚(𝑙𝑖𝑘𝑒𝑠)/𝑠𝑢𝑚(𝑣𝑖𝑒𝑤𝑠) \n",
    "\n",
    "Посчитаем в обеих группах поюзерную метрику  𝑙𝑖𝑛𝑒𝑎𝑟𝑖𝑧𝑒𝑑_𝑙𝑖𝑘𝑒𝑠=𝑙𝑖𝑘𝑒𝑠−𝐶𝑇𝑅𝑐𝑜𝑛𝑡𝑟𝑜𝑙∗𝑣𝑖𝑒𝑤𝑠 \n",
    "\n",
    "После чего сравним  t-тестом отличия в группах по метрике 𝑙𝑖𝑛𝑒𝑎𝑟𝑖𝑧𝑒𝑑_𝑙𝑖𝑘𝑒𝑠  \n",
    "\n",
    "Метод простой, гарантируется, что при приличном размере выборки можно бесплатно увеличить чувствительность вашей метрики (или, по крайней мере, не сделать хуже)."
   ]
  },
  {
   "cell_type": "code",
   "execution_count": 30,
   "id": "73cef30d-d862-4552-aafe-49f602ede5ed",
   "metadata": {},
   "outputs": [],
   "source": [
    "import pandahouse\n",
    "import pandas as pd\n",
    "import seaborn as sns\n",
    "import matplotlib.pyplot as plt\n",
    "import numpy as np\n",
    "import hashlib # Делать хеши\n",
    "#import swifter # Ускорялка метода apply\n",
    "from scipy import stats # Статистика\n",
    "%matplotlib inline"
   ]
  },
  {
   "cell_type": "code",
   "execution_count": 31,
   "id": "18a6bd0a-7840-4a28-aabb-31cea90fece5",
   "metadata": {},
   "outputs": [],
   "source": [
    "connection = {\n",
    "    'host': 'https://clickhouse.lab.karpov.courses',\n",
    "    'password': 'dpo_python_2020',\n",
    "    'user': 'student',\n",
    "    'database': 'simulator_20230520'\n",
    "}"
   ]
  },
  {
   "cell_type": "code",
   "execution_count": 32,
   "id": "6815fef7-651f-418a-bcd8-dc182f21288a",
   "metadata": {},
   "outputs": [],
   "source": [
    "# выгрузим из Кликхауса необходимые данные\n",
    "q = \"\"\"\n",
    "    SELECT \n",
    "          exp_group,\n",
    "          user_id,\n",
    "          sum(action = 'like') as likes,\n",
    "          sum(action = 'view') as views,\n",
    "          likes / views as ctr\n",
    "    FROM {db}.feed_actions \n",
    "    WHERE toDate(time) between '2023-05-01' and '2023-05-07'\n",
    "            and exp_group in (2, 1)\n",
    "    GROUP BY exp_group, user_id\n",
    "    \n",
    "\"\"\""
   ]
  },
  {
   "cell_type": "code",
   "execution_count": 33,
   "id": "d3ddd173-bdd1-4d7b-8f68-7f3e3ed0ad90",
   "metadata": {},
   "outputs": [],
   "source": [
    "df = pandahouse.read_clickhouse(q, connection=connection)"
   ]
  },
  {
   "cell_type": "code",
   "execution_count": 34,
   "id": "e3d94033-0875-49a4-a2a0-3f36548cf8c6",
   "metadata": {},
   "outputs": [
    {
     "data": {
      "text/html": [
       "<div>\n",
       "<style scoped>\n",
       "    .dataframe tbody tr th:only-of-type {\n",
       "        vertical-align: middle;\n",
       "    }\n",
       "\n",
       "    .dataframe tbody tr th {\n",
       "        vertical-align: top;\n",
       "    }\n",
       "\n",
       "    .dataframe thead th {\n",
       "        text-align: right;\n",
       "    }\n",
       "</style>\n",
       "<table border=\"1\" class=\"dataframe\">\n",
       "  <thead>\n",
       "    <tr style=\"text-align: right;\">\n",
       "      <th></th>\n",
       "      <th>exp_group</th>\n",
       "      <th>user_id</th>\n",
       "      <th>likes</th>\n",
       "      <th>views</th>\n",
       "      <th>ctr</th>\n",
       "    </tr>\n",
       "  </thead>\n",
       "  <tbody>\n",
       "    <tr>\n",
       "      <th>0</th>\n",
       "      <td>1</td>\n",
       "      <td>109963</td>\n",
       "      <td>3</td>\n",
       "      <td>15</td>\n",
       "      <td>0.200000</td>\n",
       "    </tr>\n",
       "    <tr>\n",
       "      <th>1</th>\n",
       "      <td>1</td>\n",
       "      <td>26117</td>\n",
       "      <td>32</td>\n",
       "      <td>141</td>\n",
       "      <td>0.226950</td>\n",
       "    </tr>\n",
       "    <tr>\n",
       "      <th>2</th>\n",
       "      <td>1</td>\n",
       "      <td>138232</td>\n",
       "      <td>18</td>\n",
       "      <td>73</td>\n",
       "      <td>0.246575</td>\n",
       "    </tr>\n",
       "    <tr>\n",
       "      <th>3</th>\n",
       "      <td>1</td>\n",
       "      <td>26295</td>\n",
       "      <td>33</td>\n",
       "      <td>122</td>\n",
       "      <td>0.270492</td>\n",
       "    </tr>\n",
       "    <tr>\n",
       "      <th>4</th>\n",
       "      <td>1</td>\n",
       "      <td>18392</td>\n",
       "      <td>7</td>\n",
       "      <td>32</td>\n",
       "      <td>0.218750</td>\n",
       "    </tr>\n",
       "  </tbody>\n",
       "</table>\n",
       "</div>"
      ],
      "text/plain": [
       "   exp_group  user_id  likes  views       ctr\n",
       "0          1   109963      3     15  0.200000\n",
       "1          1    26117     32    141  0.226950\n",
       "2          1   138232     18     73  0.246575\n",
       "3          1    26295     33    122  0.270492\n",
       "4          1    18392      7     32  0.218750"
      ]
     },
     "execution_count": 34,
     "metadata": {},
     "output_type": "execute_result"
    }
   ],
   "source": [
    "# Загрузим датасет\n",
    "df.head()"
   ]
  },
  {
   "cell_type": "code",
   "execution_count": 35,
   "id": "ad9eb0a1-452c-4723-a838-f9f85f8d1b71",
   "metadata": {},
   "outputs": [
    {
     "data": {
      "text/html": [
       "<div>\n",
       "<style scoped>\n",
       "    .dataframe tbody tr th:only-of-type {\n",
       "        vertical-align: middle;\n",
       "    }\n",
       "\n",
       "    .dataframe tbody tr th {\n",
       "        vertical-align: top;\n",
       "    }\n",
       "\n",
       "    .dataframe thead th {\n",
       "        text-align: right;\n",
       "    }\n",
       "</style>\n",
       "<table border=\"1\" class=\"dataframe\">\n",
       "  <thead>\n",
       "    <tr style=\"text-align: right;\">\n",
       "      <th></th>\n",
       "      <th>user_id</th>\n",
       "      <th>likes</th>\n",
       "      <th>views</th>\n",
       "      <th>ctr</th>\n",
       "    </tr>\n",
       "    <tr>\n",
       "      <th>exp_group</th>\n",
       "      <th></th>\n",
       "      <th></th>\n",
       "      <th></th>\n",
       "      <th></th>\n",
       "    </tr>\n",
       "  </thead>\n",
       "  <tbody>\n",
       "    <tr>\n",
       "      <th>1</th>\n",
       "      <td>10079</td>\n",
       "      <td>10079</td>\n",
       "      <td>10079</td>\n",
       "      <td>10079</td>\n",
       "    </tr>\n",
       "    <tr>\n",
       "      <th>2</th>\n",
       "      <td>9952</td>\n",
       "      <td>9952</td>\n",
       "      <td>9952</td>\n",
       "      <td>9952</td>\n",
       "    </tr>\n",
       "  </tbody>\n",
       "</table>\n",
       "</div>"
      ],
      "text/plain": [
       "           user_id  likes  views    ctr\n",
       "exp_group                              \n",
       "1            10079  10079  10079  10079\n",
       "2             9952   9952   9952   9952"
      ]
     },
     "execution_count": 35,
     "metadata": {},
     "output_type": "execute_result"
    }
   ],
   "source": [
    "#Убедимся, что юзеров одинаковое +- количество в группах\n",
    "df.groupby('exp_group').count()"
   ]
  },
  {
   "cell_type": "code",
   "execution_count": 36,
   "id": "e32b86ab-e6bd-4e8e-8535-720edd3142af",
   "metadata": {},
   "outputs": [],
   "source": [
    "# посчитаем общий CTR в контрольной группе\n",
    "global_ctr_1 = df[df.exp_group == 1].likes.sum()/df[df.exp_group == 1].views.sum()"
   ]
  },
  {
   "cell_type": "code",
   "execution_count": 37,
   "id": "9492e5b3-734f-45e8-a47a-81aa23aa2da6",
   "metadata": {},
   "outputs": [],
   "source": [
    "# посчитаем новую метрику по формуле 𝑙𝑖𝑛𝑒𝑎𝑟𝑖𝑧𝑒𝑑_𝑙𝑖𝑘𝑒𝑠=𝑙𝑖𝑘𝑒𝑠−𝐶𝑇𝑅𝑐𝑜𝑛𝑡𝑟𝑜𝑙∗𝑣𝑖𝑒𝑤𝑠\n",
    "df['linear_likes'] = df.likes - global_ctr_1/df.views "
   ]
  },
  {
   "cell_type": "code",
   "execution_count": 38,
   "id": "f1fef9e5-8db8-4f81-a4c2-84b380c1d0e2",
   "metadata": {},
   "outputs": [
    {
     "data": {
      "text/plain": [
       "0.20802680490126244"
      ]
     },
     "execution_count": 38,
     "metadata": {},
     "output_type": "execute_result"
    }
   ],
   "source": [
    "global_ctr_1 "
   ]
  },
  {
   "cell_type": "code",
   "execution_count": 39,
   "id": "b4445bdd-86d8-4e22-8c18-150f3aa84b9e",
   "metadata": {},
   "outputs": [
    {
     "data": {
      "text/html": [
       "<div>\n",
       "<style scoped>\n",
       "    .dataframe tbody tr th:only-of-type {\n",
       "        vertical-align: middle;\n",
       "    }\n",
       "\n",
       "    .dataframe tbody tr th {\n",
       "        vertical-align: top;\n",
       "    }\n",
       "\n",
       "    .dataframe thead th {\n",
       "        text-align: right;\n",
       "    }\n",
       "</style>\n",
       "<table border=\"1\" class=\"dataframe\">\n",
       "  <thead>\n",
       "    <tr style=\"text-align: right;\">\n",
       "      <th></th>\n",
       "      <th>exp_group</th>\n",
       "      <th>user_id</th>\n",
       "      <th>likes</th>\n",
       "      <th>views</th>\n",
       "      <th>ctr</th>\n",
       "      <th>linear_likes</th>\n",
       "    </tr>\n",
       "  </thead>\n",
       "  <tbody>\n",
       "    <tr>\n",
       "      <th>0</th>\n",
       "      <td>1</td>\n",
       "      <td>109963</td>\n",
       "      <td>3</td>\n",
       "      <td>15</td>\n",
       "      <td>0.200000</td>\n",
       "      <td>2.986132</td>\n",
       "    </tr>\n",
       "    <tr>\n",
       "      <th>1</th>\n",
       "      <td>1</td>\n",
       "      <td>26117</td>\n",
       "      <td>32</td>\n",
       "      <td>141</td>\n",
       "      <td>0.226950</td>\n",
       "      <td>31.998525</td>\n",
       "    </tr>\n",
       "    <tr>\n",
       "      <th>2</th>\n",
       "      <td>1</td>\n",
       "      <td>138232</td>\n",
       "      <td>18</td>\n",
       "      <td>73</td>\n",
       "      <td>0.246575</td>\n",
       "      <td>17.997150</td>\n",
       "    </tr>\n",
       "    <tr>\n",
       "      <th>3</th>\n",
       "      <td>1</td>\n",
       "      <td>26295</td>\n",
       "      <td>33</td>\n",
       "      <td>122</td>\n",
       "      <td>0.270492</td>\n",
       "      <td>32.998295</td>\n",
       "    </tr>\n",
       "    <tr>\n",
       "      <th>4</th>\n",
       "      <td>1</td>\n",
       "      <td>18392</td>\n",
       "      <td>7</td>\n",
       "      <td>32</td>\n",
       "      <td>0.218750</td>\n",
       "      <td>6.993499</td>\n",
       "    </tr>\n",
       "  </tbody>\n",
       "</table>\n",
       "</div>"
      ],
      "text/plain": [
       "   exp_group  user_id  likes  views       ctr  linear_likes\n",
       "0          1   109963      3     15  0.200000      2.986132\n",
       "1          1    26117     32    141  0.226950     31.998525\n",
       "2          1   138232     18     73  0.246575     17.997150\n",
       "3          1    26295     33    122  0.270492     32.998295\n",
       "4          1    18392      7     32  0.218750      6.993499"
      ]
     },
     "execution_count": 39,
     "metadata": {},
     "output_type": "execute_result"
    }
   ],
   "source": [
    "df.head()"
   ]
  },
  {
   "cell_type": "code",
   "execution_count": 40,
   "id": "2c8db347-919a-4f27-bd12-b7b8a1b1f1ae",
   "metadata": {},
   "outputs": [],
   "source": [
    "#увеличим размер в сиборне\n",
    "sns.set(rc={'figure.figsize':(11.7,8.27)})"
   ]
  },
  {
   "cell_type": "code",
   "execution_count": 47,
   "id": "a9f3a4f1-c388-4fdf-9810-03f42e612476",
   "metadata": {},
   "outputs": [
    {
     "data": {
      "image/png": "[encoded data removed]",
      "text/plain": [
       "<Figure size 842.4x595.44 with 1 Axes>"
      ]
     },
     "metadata": {},
     "output_type": "display_data"
    }
   ],
   "source": [
    "# посмотрим на распределение новой метрики до теста\n",
    "groups = sns.histplot(data = df, \n",
    "              x='linear_likes', \n",
    "              hue='exp_group', \n",
    "              palette = ['r', 'b'],\n",
    "              alpha=0.5,\n",
    "              kde=False)"
   ]
  },
  {
   "cell_type": "code",
   "execution_count": 43,
   "id": "a1e25707-2a8f-4619-b926-30bc6e69191e",
   "metadata": {},
   "outputs": [
    {
     "data": {
      "image/png": "[encoded data removed]",
      "text/plain": [
       "<Figure size 842.4x595.44 with 1 Axes>"
      ]
     },
     "metadata": {},
     "output_type": "display_data"
    }
   ],
   "source": [
    "# посмотрим на распределение ctr до теста\n",
    "groups = sns.histplot(data = df, \n",
    "              x='ctr', \n",
    "              hue='exp_group', \n",
    "              palette = ['r', 'b'],\n",
    "              alpha=0.5,\n",
    "              kde=False)"
   ]
  },
  {
   "cell_type": "code",
   "execution_count": 11,
   "id": "5ec28be6-e818-40d0-9860-2840de2efeb9",
   "metadata": {},
   "outputs": [
    {
     "name": "stdout",
     "output_type": "stream",
     "text": [
      "p-value: 6.985814230247977e-06\n",
      "statistic: 4.495356784991715\n"
     ]
    }
   ],
   "source": [
    "# проведем т-тест\n",
    "results = stats.ttest_ind(df[df.exp_group == 1].linear_likes,\n",
    "                df[df.exp_group == 2].linear_likes,\n",
    "                equal_var=False)\n",
    "print('p-value:', results.pvalue)\n",
    "print('statistic:', results.statistic)"
   ]
  },
  {
   "cell_type": "markdown",
   "id": "61d91ba7-a646-4df9-87b9-82e567e8712e",
   "metadata": {},
   "source": [
    "### t-критерий на новой метрике прокрасил статистически значимые различия в группах теста и контроля"
   ]
  },
  {
   "cell_type": "code",
   "execution_count": 48,
   "id": "3914c2bf-d43a-44c7-bcd1-d0da6db64578",
   "metadata": {},
   "outputs": [
    {
     "name": "stdout",
     "output_type": "stream",
     "text": [
      "p-value: 0.4780623130874935\n",
      "statistic: 0.7094392041270486\n"
     ]
    }
   ],
   "source": [
    "# проведем т-тест на CTR\n",
    "results = stats.ttest_ind(df[df.exp_group == 1].ctr,\n",
    "                df[df.exp_group == 2].ctr,\n",
    "                equal_var=False)\n",
    "print('p-value:', results.pvalue)\n",
    "print('statistic:', results.statistic)"
   ]
  },
  {
   "cell_type": "markdown",
   "id": "c2d41d55-4987-43d5-9e64-04bbde7de87b",
   "metadata": {},
   "source": [
    "### тест на CTR не показал различий в группах"
   ]
  },
  {
   "cell_type": "code",
   "execution_count": 50,
   "id": "7d0c178d-fade-48a9-80ec-6a8b53eda2cd",
   "metadata": {},
   "outputs": [
    {
     "data": {
      "text/plain": [
       "<AxesSubplot:xlabel='exp_group', ylabel='linear_likes'>"
      ]
     },
     "execution_count": 50,
     "metadata": {},
     "output_type": "execute_result"
    },
    {
     "data": {
      "image/png": "[encoded data removed]",
      "text/plain": [
       "<Figure size 842.4x595.44 with 1 Axes>"
      ]
     },
     "metadata": {},
     "output_type": "display_data"
    }
   ],
   "source": [
    "sns.boxplot(data = df, \n",
    "              x = 'exp_group', \n",
    "              y = 'linear_likes', \n",
    "              palette = ['r', 'b'])"
   ]
  },
  {
   "cell_type": "code",
   "execution_count": 51,
   "id": "d6ee691c-3271-4aeb-92bc-689f5715bab8",
   "metadata": {},
   "outputs": [
    {
     "data": {
      "text/plain": [
       "<AxesSubplot:xlabel='exp_group', ylabel='ctr'>"
      ]
     },
     "execution_count": 51,
     "metadata": {},
     "output_type": "execute_result"
    },
    {
     "data": {
      "image/png": "[encoded data removed]",
      "text/plain": [
       "<Figure size 842.4x595.44 with 1 Axes>"
      ]
     },
     "metadata": {},
     "output_type": "display_data"
    }
   ],
   "source": [
    "sns.boxplot(data = df, \n",
    "              x = 'exp_group', \n",
    "              y = 'ctr', \n",
    "              palette = ['r', 'b'])"
   ]
  },
  {
   "cell_type": "markdown",
   "id": "d32717aa-5c85-4407-82d5-bf6779fad3ac",
   "metadata": {},
   "source": [
    "### Проведение теста на новой метрике и ctr в группах 1, 2 показал нам, что по новой метрике p-value существенно выше - есть статистически значимые отличия в тестовой (группа 1) и контрольных группах (группа 2), глазами мы это тоже увидели."
   ]
  },
  {
   "cell_type": "markdown",
   "id": "a7e465a5-0061-474f-9167-85c7bcb1a5f5",
   "metadata": {},
   "source": [
    "## теперь проделаем тоже самое на группах 0 - контрольной группе и 3 - тестовой группе, возьмем тот же период 2023-05-01 и 2023-05-07 "
   ]
  },
  {
   "cell_type": "code",
   "execution_count": 52,
   "id": "2d47d19c-0e2d-438b-8505-a2aa5eea1485",
   "metadata": {},
   "outputs": [],
   "source": [
    "# выгрузим из кликхауса нужные данные \n",
    "\n",
    "q = \"\"\"\n",
    "    SELECT \n",
    "          exp_group,\n",
    "          user_id,\n",
    "          sum(action = 'like') as likes,\n",
    "          sum(action = 'view') as views,\n",
    "          likes / views as ctr\n",
    "    FROM {db}.feed_actions \n",
    "    WHERE toDate(time) between '2023-05-01' and '2023-05-07'\n",
    "            and exp_group in (0, 3)\n",
    "    GROUP BY exp_group, user_id\n",
    "    \n",
    "\"\"\""
   ]
  },
  {
   "cell_type": "code",
   "execution_count": 53,
   "id": "527ae604-1bbd-4689-852d-2d9dace65b2d",
   "metadata": {},
   "outputs": [],
   "source": [
    "df_1 = pandahouse.read_clickhouse(q, connection=connection)"
   ]
  },
  {
   "cell_type": "code",
   "execution_count": 54,
   "id": "82ff99f9-16f5-4d7d-9c93-8ee73b6f6047",
   "metadata": {},
   "outputs": [
    {
     "data": {
      "text/html": [
       "<div>\n",
       "<style scoped>\n",
       "    .dataframe tbody tr th:only-of-type {\n",
       "        vertical-align: middle;\n",
       "    }\n",
       "\n",
       "    .dataframe tbody tr th {\n",
       "        vertical-align: top;\n",
       "    }\n",
       "\n",
       "    .dataframe thead th {\n",
       "        text-align: right;\n",
       "    }\n",
       "</style>\n",
       "<table border=\"1\" class=\"dataframe\">\n",
       "  <thead>\n",
       "    <tr style=\"text-align: right;\">\n",
       "      <th></th>\n",
       "      <th>exp_group</th>\n",
       "      <th>user_id</th>\n",
       "      <th>likes</th>\n",
       "      <th>views</th>\n",
       "      <th>ctr</th>\n",
       "    </tr>\n",
       "  </thead>\n",
       "  <tbody>\n",
       "    <tr>\n",
       "      <th>0</th>\n",
       "      <td>3</td>\n",
       "      <td>115383</td>\n",
       "      <td>9</td>\n",
       "      <td>30</td>\n",
       "      <td>0.300000</td>\n",
       "    </tr>\n",
       "    <tr>\n",
       "      <th>1</th>\n",
       "      <td>3</td>\n",
       "      <td>123580</td>\n",
       "      <td>13</td>\n",
       "      <td>48</td>\n",
       "      <td>0.270833</td>\n",
       "    </tr>\n",
       "    <tr>\n",
       "      <th>2</th>\n",
       "      <td>0</td>\n",
       "      <td>4944</td>\n",
       "      <td>8</td>\n",
       "      <td>41</td>\n",
       "      <td>0.195122</td>\n",
       "    </tr>\n",
       "    <tr>\n",
       "      <th>3</th>\n",
       "      <td>0</td>\n",
       "      <td>4504</td>\n",
       "      <td>5</td>\n",
       "      <td>15</td>\n",
       "      <td>0.333333</td>\n",
       "    </tr>\n",
       "    <tr>\n",
       "      <th>4</th>\n",
       "      <td>0</td>\n",
       "      <td>121508</td>\n",
       "      <td>18</td>\n",
       "      <td>88</td>\n",
       "      <td>0.204545</td>\n",
       "    </tr>\n",
       "  </tbody>\n",
       "</table>\n",
       "</div>"
      ],
      "text/plain": [
       "   exp_group  user_id  likes  views       ctr\n",
       "0          3   115383      9     30  0.300000\n",
       "1          3   123580     13     48  0.270833\n",
       "2          0     4944      8     41  0.195122\n",
       "3          0     4504      5     15  0.333333\n",
       "4          0   121508     18     88  0.204545"
      ]
     },
     "execution_count": 54,
     "metadata": {},
     "output_type": "execute_result"
    }
   ],
   "source": [
    "df_1.head()"
   ]
  },
  {
   "cell_type": "code",
   "execution_count": 55,
   "id": "7c2d2f67-e6d1-4ff2-8645-2cb7823d6712",
   "metadata": {},
   "outputs": [
    {
     "data": {
      "text/html": [
       "<div>\n",
       "<style scoped>\n",
       "    .dataframe tbody tr th:only-of-type {\n",
       "        vertical-align: middle;\n",
       "    }\n",
       "\n",
       "    .dataframe tbody tr th {\n",
       "        vertical-align: top;\n",
       "    }\n",
       "\n",
       "    .dataframe thead th {\n",
       "        text-align: right;\n",
       "    }\n",
       "</style>\n",
       "<table border=\"1\" class=\"dataframe\">\n",
       "  <thead>\n",
       "    <tr style=\"text-align: right;\">\n",
       "      <th></th>\n",
       "      <th>user_id</th>\n",
       "      <th>likes</th>\n",
       "      <th>views</th>\n",
       "      <th>ctr</th>\n",
       "    </tr>\n",
       "    <tr>\n",
       "      <th>exp_group</th>\n",
       "      <th></th>\n",
       "      <th></th>\n",
       "      <th></th>\n",
       "      <th></th>\n",
       "    </tr>\n",
       "  </thead>\n",
       "  <tbody>\n",
       "    <tr>\n",
       "      <th>0</th>\n",
       "      <td>9999</td>\n",
       "      <td>9999</td>\n",
       "      <td>9999</td>\n",
       "      <td>9999</td>\n",
       "    </tr>\n",
       "    <tr>\n",
       "      <th>3</th>\n",
       "      <td>10049</td>\n",
       "      <td>10049</td>\n",
       "      <td>10049</td>\n",
       "      <td>10049</td>\n",
       "    </tr>\n",
       "  </tbody>\n",
       "</table>\n",
       "</div>"
      ],
      "text/plain": [
       "           user_id  likes  views    ctr\n",
       "exp_group                              \n",
       "0             9999   9999   9999   9999\n",
       "3            10049  10049  10049  10049"
      ]
     },
     "execution_count": 55,
     "metadata": {},
     "output_type": "execute_result"
    }
   ],
   "source": [
    "#Убедимся, что юзеров одинаковое +- количество в группах\n",
    "df_1.groupby('exp_group').count()"
   ]
  },
  {
   "cell_type": "code",
   "execution_count": 56,
   "id": "3b0c112b-4a63-4b2c-abbb-58e4bb40950d",
   "metadata": {},
   "outputs": [],
   "source": [
    "# посчитаем общий CTR в контрольной группе\n",
    "global_ctr_0 = df_1[df_1.exp_group == 0].likes.sum()/df_1[df_1.exp_group == 0].views.sum()"
   ]
  },
  {
   "cell_type": "code",
   "execution_count": 57,
   "id": "4ba03881-24fd-4ef4-9747-a7a2499f304d",
   "metadata": {},
   "outputs": [],
   "source": [
    "# посчитаем новую метрику по формуле 𝑙𝑖𝑛𝑒𝑎𝑟𝑖𝑧𝑒𝑑_𝑙𝑖𝑘𝑒𝑠=𝑙𝑖𝑘𝑒𝑠−𝐶𝑇𝑅𝑐𝑜𝑛𝑡𝑟𝑜𝑙∗𝑣𝑖𝑒𝑤𝑠\n",
    "df_1['linear_likes'] = df_1.likes - global_ctr_0/df_1.views"
   ]
  },
  {
   "cell_type": "code",
   "execution_count": 58,
   "id": "8f8ddaef-c04e-4746-b045-cd3a131c1107",
   "metadata": {},
   "outputs": [
    {
     "data": {
      "text/html": [
       "<div>\n",
       "<style scoped>\n",
       "    .dataframe tbody tr th:only-of-type {\n",
       "        vertical-align: middle;\n",
       "    }\n",
       "\n",
       "    .dataframe tbody tr th {\n",
       "        vertical-align: top;\n",
       "    }\n",
       "\n",
       "    .dataframe thead th {\n",
       "        text-align: right;\n",
       "    }\n",
       "</style>\n",
       "<table border=\"1\" class=\"dataframe\">\n",
       "  <thead>\n",
       "    <tr style=\"text-align: right;\">\n",
       "      <th></th>\n",
       "      <th>exp_group</th>\n",
       "      <th>user_id</th>\n",
       "      <th>likes</th>\n",
       "      <th>views</th>\n",
       "      <th>ctr</th>\n",
       "      <th>linear_likes</th>\n",
       "    </tr>\n",
       "  </thead>\n",
       "  <tbody>\n",
       "    <tr>\n",
       "      <th>0</th>\n",
       "      <td>3</td>\n",
       "      <td>115383</td>\n",
       "      <td>9</td>\n",
       "      <td>30</td>\n",
       "      <td>0.300000</td>\n",
       "      <td>8.993059</td>\n",
       "    </tr>\n",
       "    <tr>\n",
       "      <th>1</th>\n",
       "      <td>3</td>\n",
       "      <td>123580</td>\n",
       "      <td>13</td>\n",
       "      <td>48</td>\n",
       "      <td>0.270833</td>\n",
       "      <td>12.995662</td>\n",
       "    </tr>\n",
       "    <tr>\n",
       "      <th>2</th>\n",
       "      <td>0</td>\n",
       "      <td>4944</td>\n",
       "      <td>8</td>\n",
       "      <td>41</td>\n",
       "      <td>0.195122</td>\n",
       "      <td>7.994921</td>\n",
       "    </tr>\n",
       "    <tr>\n",
       "      <th>3</th>\n",
       "      <td>0</td>\n",
       "      <td>4504</td>\n",
       "      <td>5</td>\n",
       "      <td>15</td>\n",
       "      <td>0.333333</td>\n",
       "      <td>4.986118</td>\n",
       "    </tr>\n",
       "    <tr>\n",
       "      <th>4</th>\n",
       "      <td>0</td>\n",
       "      <td>121508</td>\n",
       "      <td>18</td>\n",
       "      <td>88</td>\n",
       "      <td>0.204545</td>\n",
       "      <td>17.997634</td>\n",
       "    </tr>\n",
       "  </tbody>\n",
       "</table>\n",
       "</div>"
      ],
      "text/plain": [
       "   exp_group  user_id  likes  views       ctr  linear_likes\n",
       "0          3   115383      9     30  0.300000      8.993059\n",
       "1          3   123580     13     48  0.270833     12.995662\n",
       "2          0     4944      8     41  0.195122      7.994921\n",
       "3          0     4504      5     15  0.333333      4.986118\n",
       "4          0   121508     18     88  0.204545     17.997634"
      ]
     },
     "execution_count": 58,
     "metadata": {},
     "output_type": "execute_result"
    }
   ],
   "source": [
    "df_1.head()"
   ]
  },
  {
   "cell_type": "code",
   "execution_count": 59,
   "id": "7f485553-2403-4516-ac6e-3f10b37f5169",
   "metadata": {},
   "outputs": [
    {
     "data": {
      "text/plain": [
       "0.20823612262916305"
      ]
     },
     "execution_count": 59,
     "metadata": {},
     "output_type": "execute_result"
    }
   ],
   "source": [
    "global_ctr_0"
   ]
  },
  {
   "cell_type": "code",
   "execution_count": 60,
   "id": "a63e4503-3ce9-4fb9-9ab4-a5fab8659b90",
   "metadata": {},
   "outputs": [],
   "source": [
    "#увеличим размер в сиборне\n",
    "sns.set(rc={'figure.figsize':(11.7,8.27)})"
   ]
  },
  {
   "cell_type": "code",
   "execution_count": 61,
   "id": "f3dab818-5807-418a-8585-5fbbfb489c41",
   "metadata": {},
   "outputs": [
    {
     "data": {
      "image/png": "[encoded data removed]",
      "text/plain": [
       "<Figure size 842.4x595.44 with 1 Axes>"
      ]
     },
     "metadata": {},
     "output_type": "display_data"
    }
   ],
   "source": [
    "# посмотрим на распределение новой метрики до теста\n",
    "groups = sns.histplot(data = df_1, \n",
    "              x='linear_likes', \n",
    "              hue='exp_group', \n",
    "              palette = ['r', 'b'],\n",
    "              alpha=0.5,\n",
    "              kde=False)"
   ]
  },
  {
   "cell_type": "code",
   "execution_count": 65,
   "id": "571a07c4-522b-4694-96a3-07bd125b7a2d",
   "metadata": {},
   "outputs": [
    {
     "data": {
      "image/png": "[encoded data removed]",
      "text/plain": [
       "<Figure size 842.4x595.44 with 1 Axes>"
      ]
     },
     "metadata": {},
     "output_type": "display_data"
    }
   ],
   "source": [
    "# посмотрим на распределение ctr до теста\n",
    "groups = sns.histplot(data = df_1, \n",
    "              x='ctr', \n",
    "              hue='exp_group', \n",
    "              palette = ['r', 'b'],\n",
    "              alpha=0.5,\n",
    "              kde=False)"
   ]
  },
  {
   "cell_type": "code",
   "execution_count": 63,
   "id": "52003d4e-8feb-4430-8374-ece5aabec533",
   "metadata": {},
   "outputs": [
    {
     "name": "stdout",
     "output_type": "stream",
     "text": [
      "p-value: 2.069012745066118e-11\n",
      "statistic: -6.704916938749261\n"
     ]
    }
   ],
   "source": [
    "# проведем т-тест\n",
    "results = stats.ttest_ind(df_1[df_1.exp_group == 0].linear_likes,\n",
    "                df_1[df_1.exp_group == 3].linear_likes,\n",
    "                equal_var=False)\n",
    "print('p-value:', results.pvalue)\n",
    "print('statistic:', results.statistic)"
   ]
  },
  {
   "cell_type": "markdown",
   "id": "4661559c-dc59-4d87-921a-35eae4c4cb11",
   "metadata": {},
   "source": [
    "### тест показал что разница в группах есть, p-value высокий, теперь посмотрим на результаты теста на ctr"
   ]
  },
  {
   "cell_type": "code",
   "execution_count": 64,
   "id": "d1c7fcc0-243a-44ea-b768-ac646488d10c",
   "metadata": {},
   "outputs": [
    {
     "name": "stdout",
     "output_type": "stream",
     "text": [
      "p-value: 1.055849414662529e-43\n",
      "statistic: -13.896870721904069\n"
     ]
    }
   ],
   "source": [
    "# проведем т-тест\n",
    "results = stats.ttest_ind(df_1[df_1.exp_group == 0].ctr,\n",
    "                df_1[df_1.exp_group == 3].ctr,\n",
    "                equal_var=False)\n",
    "print('p-value:', results.pvalue)\n",
    "print('statistic:', results.statistic)"
   ]
  },
  {
   "cell_type": "markdown",
   "id": "51d056c6-a7e0-4367-ba96-cb417605ab46",
   "metadata": {},
   "source": [
    "### тест на метрике ctr также показал различия в группах"
   ]
  },
  {
   "cell_type": "markdown",
   "id": "40e60265-4a72-463c-be04-7275e0d86336",
   "metadata": {},
   "source": [
    "## Выводы по проделанной работе: \n",
    "\n",
    "Сравнение групп 1 - контрольной и 2 - тестовой: тест Стьюдента, проведенный на новой метрике линеаризованных лайков показал статистически значимые отличия в группах, тест на CTR - не показал различий. Отвечая на вопрос из задания уменьшился ли p-value в тесте с новой метрикой - p-value уменьшился. Можно сделать вывод, что т-тест на новой метрике более чувствительный по сравнению с тестом на CTR.\n",
    "\n",
    "Сравнение групп 0 - контрольной и 3 - тестовой: на обеих метриках т-тест прокрасил статистически значимые отличия в тестовой и контрольной группах"
   ]
  },
  {
   "cell_type": "code",
   "execution_count": null,
   "id": "fccb4cbc-c755-49a9-bae2-0ad88bbbeeaa",
   "metadata": {},
   "outputs": [],
   "source": []
  }
 ],
 "metadata": {
  "kernelspec": {
   "display_name": "Python 3 (ipykernel)",
   "language": "python",
   "name": "python3"
  },
  "language_info": {
   "codemirror_mode": {
    "name": "ipython",
    "version": 3
   },
   "file_extension": ".py",
   "mimetype": "text/x-python",
   "name": "python",
   "nbconvert_exporter": "python",
   "pygments_lexer": "ipython3",
   "version": "3.9.13"
  }
 },
 "nbformat": 4,
 "nbformat_minor": 5
}
